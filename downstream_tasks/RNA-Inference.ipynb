{
 "cells": [
  {
   "cell_type": "markdown",
   "id": "14978c90-8906-464e-891d-c0027c92a877",
   "metadata": {},
   "source": [
    "# Reference-Guided RNA Inference from ATAC"
   ]
  },
  {
   "cell_type": "code",
   "execution_count": 1,
   "id": "88ff8218-326a-4d22-a2e1-1585352e449b",
   "metadata": {},
   "outputs": [],
   "source": [
    "# Import packages\n",
    "import os\n",
    "import pandas as pd\n",
    "import numpy as np\n",
    "import scanpy as sc\n",
    "import nmslib\n",
    "from scipy.sparse import csr_matrix, vstack"
   ]
  },
  {
   "cell_type": "code",
   "execution_count": 2,
   "id": "341a908a-8c51-481d-bb4b-b975974f7012",
   "metadata": {},
   "outputs": [],
   "source": [
    "# Load reference\n",
    "refA = np.load(\"scM_human_RNA_and_ATAC_bs16_directOut0/atac_cell_embs.npy\")\n",
    "refC = np.load(\"scM_human_RNA_and_ATAC_bs16_directOut0/cell_names.npy\")"
   ]
  },
  {
   "cell_type": "code",
   "execution_count": 3,
   "id": "ac565a06-d479-4860-9d7b-90e3892d2e8c",
   "metadata": {},
   "outputs": [],
   "source": [
    "# Reference h5ad\n",
    "files = os.listdir(\"scM_human_h5ad\")\n",
    "files = pd.DataFrame({\"sample\": [file.split(\".\")[0] for file in files], \"file\": [f\"scM_human_h5ad/{file}\" for file in files]})"
   ]
  },
  {
   "cell_type": "code",
   "execution_count": 4,
   "id": "3f31e48a-aee5-4c9c-ab45-76ba98ff154c",
   "metadata": {},
   "outputs": [
    {
     "name": "stdout",
     "output_type": "stream",
     "text": [
      "ATAC: (9631, 512)\n"
     ]
    }
   ],
   "source": [
    "# Load data\n",
    "atac = np.load(\"hPbmc_RNA_and_ATAC_bs16_directOut0/atac_cell_embs.npy\")\n",
    "cell = np.load(\"hPbmc_RNA_and_ATAC_bs16_directOut0/cell_names.npy\")\n",
    "print(f\"ATAC: {atac.shape}\")"
   ]
  },
  {
   "cell_type": "code",
   "execution_count": 5,
   "id": "6a7c86f4-fb58-4f57-9f10-6fb63ddf9e78",
   "metadata": {},
   "outputs": [
    {
     "name": "stdout",
     "output_type": "stream",
     "text": [
      "Indices: (9631, 128)\n"
     ]
    }
   ],
   "source": [
    "# Find neighbors\n",
    "index_params = {\"M\": 64, \"efConstruction\": 128}\n",
    "query_params = {\"efSearch\": 256}\n",
    "index = nmslib.init(method = \"hnsw\", space = \"cosinesimil\", data_type = nmslib.DataType.DENSE_VECTOR)\n",
    "index.addDataPointBatch(refA)\n",
    "index.createIndex(index_params, print_progress = False)\n",
    "index.setQueryTimeParams(query_params)\n",
    "neighbours = index.knnQueryBatch(atac, k = 128)\n",
    "indices = np.vstack([i[0] for i in neighbours]).astype(np.int32)\n",
    "distances = np.vstack([i[1] for i in neighbours])\n",
    "print(f\"Indices: {indices.shape}\")"
   ]
  },
  {
   "cell_type": "code",
   "execution_count": 6,
   "id": "98494e8a-780b-43ed-88c0-09cedfb24e47",
   "metadata": {},
   "outputs": [
    {
     "name": "stdout",
     "output_type": "stream",
     "text": [
      "   sample                       cell\n",
      "0  M00007  M00007#AAACCGGCACATAGCC-1\n",
      "1  M00007  M00007#AAAGCCCGTTCATCTA-1\n",
      "2  M00007  M00007#AAAGCTTGTGGCTTCC-1\n",
      "3  M00007  M00007#AACAGCAAGTTAGGCT-1\n",
      "4  M00007  M00007#AACCGCTCAGCACGTT-1\n"
     ]
    }
   ],
   "source": [
    "# Neighbors' metadata\n",
    "neighbors = set(refC[indices].flatten())\n",
    "neighbors = pd.DataFrame({\n",
    "    \"sample\": [neighbor.split(\"#\")[0] for neighbor in neighbors],\n",
    "    \"cell\": [neighbor for neighbor in neighbors]\n",
    "}).drop_duplicates().sort_values(by = [\"sample\", \"cell\"]).reset_index(drop = True)\n",
    "print(neighbors.head())"
   ]
  },
  {
   "cell_type": "code",
   "execution_count": 7,
   "id": "3c8498e6-2e34-495b-8ae9-b56409fe5fdf",
   "metadata": {},
   "outputs": [
    {
     "name": "stdout",
     "output_type": "stream",
     "text": [
      "AnnData object with n_obs × n_vars = 87828 × 19365\n",
      "    obs: 'sample', 'cell_id'\n",
      "    var: 'gene_symbols', 'feature_types'\n"
     ]
    }
   ],
   "source": [
    "# Read expression\n",
    "expression = None\n",
    "for i in range(len(files)):\n",
    "    sample = files[\"sample\"].iloc[i]\n",
    "    cells = neighbors.loc[neighbors[\"sample\"] == sample]\n",
    "    if len(cells) == 0: continue\n",
    "    adata = sc.read_h5ad(files[\"file\"].iloc[i])\n",
    "    if expression is None:\n",
    "        expression = sc.concat([adata[cells[\"cell\"].values]], merge = \"same\")\n",
    "    else:\n",
    "        expression = sc.concat([expression, adata[cells[\"cell\"].values]], merge = \"same\")\n",
    "    del adata\n",
    "sc.pp.normalize_total(expression, target_sum = 1e4)\n",
    "print(expression)"
   ]
  },
  {
   "cell_type": "code",
   "execution_count": 8,
   "id": "d4bbbcea-8a64-409e-8a0d-be9d30bb0c31",
   "metadata": {},
   "outputs": [],
   "source": [
    "# Aggregate neighbors\n",
    "neighbours = refC[indices]\n",
    "mat = [csr_matrix(expression[n].X.mean(axis = 0)) for n in neighbours]\n",
    "prediction = sc.AnnData(X = vstack(mat), var = expression.var)\n",
    "prediction.obs_names = cell\n",
    "prediction.write(\"predict.gex.h5ad\", compression = \"gzip\")"
   ]
  },
  {
   "cell_type": "code",
   "execution_count": 9,
   "id": "ae648bb6-25a0-45ae-8a9a-45f0d856715f",
   "metadata": {},
   "outputs": [
    {
     "name": "stdout",
     "output_type": "stream",
     "text": [
      "AnnData object with n_obs × n_vars = 9631 × 19365\n",
      "    obs: 'sample', 'cell_id', 'cell_type'\n",
      "    var: 'gene_id', 'gene_name', 'gene_type', 'interval'\n"
     ]
    }
   ],
   "source": [
    "# Read truth\n",
    "truth = sc.read_h5ad(\"hPbmc.gex.h5ad\")\n",
    "truth = truth[truth.obs_names.isin(prediction.obs_names), truth.var[\"gene_id\"].isin(prediction.var_names)].copy()\n",
    "prediction = prediction[truth.obs_names, truth.var[\"gene_id\"].values].copy()\n",
    "prediction.var = truth.var.copy()\n",
    "print(truth)"
   ]
  },
  {
   "cell_type": "code",
   "execution_count": 10,
   "id": "98246098-d47e-4cf5-a3e3-3ffc194ff28c",
   "metadata": {},
   "outputs": [
    {
     "name": "stdout",
     "output_type": "stream",
     "text": [
      "Pearson correlation: 0.8352406711820752\n"
     ]
    }
   ],
   "source": [
    "# Evaluate correlation\n",
    "r = [np.corrcoef(truth[c].X.toarray(), prediction[c].X.toarray())[0][1] for c in prediction.obs_names]\n",
    "print(f\"Pearson correlation: {np.mean(r)}\")"
   ]
  }
 ],
 "metadata": {
  "kernelspec": {
   "display_name": "Python 3.10",
   "language": "python",
   "name": "py-3.10"
  },
  "language_info": {
   "codemirror_mode": {
    "name": "ipython",
    "version": 3
   },
   "file_extension": ".py",
   "mimetype": "text/x-python",
   "name": "python",
   "nbconvert_exporter": "python",
   "pygments_lexer": "ipython3",
   "version": "3.10.18"
  }
 },
 "nbformat": 4,
 "nbformat_minor": 5
}
