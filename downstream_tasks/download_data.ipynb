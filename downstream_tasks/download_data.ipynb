{
 "cells": [
  {
   "cell_type": "markdown",
   "id": "68477969-e53a-4605-af9a-a923217a2135",
   "metadata": {
    "execution": {
     "iopub.execute_input": "2025-08-28T05:59:58.615303Z",
     "iopub.status.busy": "2025-08-28T05:59:58.614737Z",
     "iopub.status.idle": "2025-08-28T05:59:59.001553Z",
     "shell.execute_reply": "2025-08-28T05:59:59.000063Z",
     "shell.execute_reply.started": "2025-08-28T05:59:58.615189Z"
    }
   },
   "source": [
    "# Download SCARF Demo Data and Model Files from Zenodo\n",
    "\n",
    "This notebook demonstrates how to download example datasets and pretrained model files for **SCARF: A Single Cell ATAC-seq and RNA-seq Foundation Model**.  \n",
    "\n",
    "We will:\n",
    "1. Download and extract the **demo dataset** (`demo_hPBMC.tar.gz`) into the `data/` folder.  \n",
    "2. Download and extract the **model files** (`model_files.tar.gz`), which contain:  \n",
    "   - `weights/` → extracted into the existing `weights/` folder.  \n",
    "   - `prior_data/` → extracted into the existing `prior_data/` folder.  \n"
   ]
  },
  {
   "cell_type": "markdown",
   "id": "bb1815a5-adf6-49e1-9747-e32c4e0db83f",
   "metadata": {
    "execution": {
     "iopub.execute_input": "2025-08-28T06:00:31.155618Z",
     "iopub.status.busy": "2025-08-28T06:00:31.154738Z",
     "iopub.status.idle": "2025-08-28T06:00:31.164203Z",
     "shell.execute_reply": "2025-08-28T06:00:31.162372Z",
     "shell.execute_reply.started": "2025-08-28T06:00:31.155527Z"
    }
   },
   "source": [
    "## Step 1: Setup\n",
    "Create local folders for saving downloaded files and extracted contents."
   ]
  },
  {
   "cell_type": "code",
   "execution_count": 5,
   "id": "aaca8287-c36b-470c-a80f-b5a8e5435e69",
   "metadata": {
    "execution": {
     "iopub.execute_input": "2025-08-28T06:04:28.859234Z",
     "iopub.status.busy": "2025-08-28T06:04:28.858489Z",
     "iopub.status.idle": "2025-08-28T06:04:28.870928Z",
     "shell.execute_reply": "2025-08-28T06:04:28.869458Z",
     "shell.execute_reply.started": "2025-08-28T06:04:28.859174Z"
    },
    "tags": []
   },
   "outputs": [
    {
     "name": "stdout",
     "output_type": "stream",
     "text": [
      "✅ Directories are ready.\n"
     ]
    }
   ],
   "source": [
    "import os\n",
    "\n",
    "# Paths for saving and extraction\n",
    "SAVE_PATH = \"./downloads\"\n",
    "DATA_DIR = \"./data\"\n",
    "WEIGHTS_DIR = \"./weights\"\n",
    "PRIOR_DIR = \"./prior_data\"\n",
    "\n",
    "# Create directories if they don't exist\n",
    "os.makedirs(SAVE_PATH, exist_ok=True)\n",
    "os.makedirs(DATA_DIR, exist_ok=True)\n",
    "os.makedirs(WEIGHTS_DIR, exist_ok=True)\n",
    "os.makedirs(PRIOR_DIR, exist_ok=True)\n",
    "\n",
    "print(\"✅ Directories are ready.\")\n"
   ]
  },
  {
   "cell_type": "markdown",
   "id": "bdaff5a7-b400-496d-a7b8-8d43803f985b",
   "metadata": {
    "execution": {
     "iopub.execute_input": "2025-08-28T06:00:49.616783Z",
     "iopub.status.busy": "2025-08-28T06:00:49.616155Z",
     "iopub.status.idle": "2025-08-28T06:01:06.622240Z",
     "shell.execute_reply": "2025-08-28T06:01:06.621010Z",
     "shell.execute_reply.started": "2025-08-28T06:00:49.616733Z"
    },
    "jupyter": {
     "outputs_hidden": true
    },
    "tags": []
   },
   "source": [
    "## Step 2: Define download function\n",
    "We use `requests` with a progress bar (`tqdm`) to download large files.\n"
   ]
  },
  {
   "cell_type": "code",
   "execution_count": 6,
   "id": "a26649b3-51ab-456a-8981-8ea9b0b0457d",
   "metadata": {
    "execution": {
     "iopub.execute_input": "2025-08-28T06:04:45.160273Z",
     "iopub.status.busy": "2025-08-28T06:04:45.159441Z",
     "iopub.status.idle": "2025-08-28T06:04:45.173657Z",
     "shell.execute_reply": "2025-08-28T06:04:45.172324Z",
     "shell.execute_reply.started": "2025-08-28T06:04:45.160206Z"
    }
   },
   "outputs": [],
   "source": [
    "import requests\n",
    "from tqdm import tqdm\n",
    "import tarfile\n",
    "\n",
    "def download_file(url, save_path):\n",
    "    \"\"\"Download a file with progress bar\"\"\"\n",
    "    if os.path.exists(save_path):\n",
    "        print(f\"✅ Already exists: {save_path}\")\n",
    "        return\n",
    "\n",
    "    response = requests.get(url, stream=True)\n",
    "    total_size = int(response.headers.get(\"content-length\", 0))\n",
    "\n",
    "    with open(save_path, \"wb\") as f, tqdm(\n",
    "        desc=f\"Downloading {os.path.basename(save_path)}\",\n",
    "        total=total_size,\n",
    "        unit=\"B\",\n",
    "        unit_scale=True,\n",
    "        unit_divisor=1024,\n",
    "    ) as bar:\n",
    "        for chunk in response.iter_content(chunk_size=1024):\n",
    "            if chunk:\n",
    "                f.write(chunk)\n",
    "                bar.update(len(chunk))\n"
   ]
  },
  {
   "cell_type": "markdown",
   "id": "54b77b26-eed6-4302-ba97-3b1b58f86d89",
   "metadata": {},
   "source": [
    "## Step 3: Download and extract the demo dataset\n",
    "This will download **`demo_hPBMC.tar.gz`** and extract it into the `./data/` folder.\n"
   ]
  },
  {
   "cell_type": "code",
   "execution_count": null,
   "id": "f98e96f2-68fd-4108-9833-e4ab9c4eedef",
   "metadata": {},
   "outputs": [],
   "source": [
    "URL_DEMO = \"https://zenodo.org/records/16956913/files/demo_hPBMC.tar.gz\"\n",
    "demo_file = os.path.join(SAVE_PATH, \"demo_hPBMC.tar.gz\")\n",
    "\n",
    "# Download\n",
    "download_file(URL_DEMO, demo_file)\n",
    "\n",
    "# Extract\n",
    "with tarfile.open(demo_file, \"r:gz\") as tar_ref:\n",
    "    tar_ref.extractall(DATA_DIR)\n",
    "print(f\"✅ Extracted demo dataset into: {DATA_DIR}\")"
   ]
  },
  {
   "cell_type": "markdown",
   "id": "294d0e0a-9f6e-4c4d-9985-59ba26924ae8",
   "metadata": {},
   "source": [
    "## Step 4: Download and extract model files\n",
    "This will download **`model_files.tar.gz`** and extract:\n",
    "- `weights/` → into the existing `weights/` folder  \n",
    "- `prior_data/` → into the existing `prior_data/` folder  \n"
   ]
  },
  {
   "cell_type": "code",
   "execution_count": null,
   "id": "5a77c1b5-1b4b-4217-af22-759d327ed917",
   "metadata": {},
   "outputs": [],
   "source": [
    "URL_MODEL = \"https://zenodo.org/records/16956913/files/model_files.tar.gz\"\n",
    "model_file = os.path.join(SAVE_PATH, \"model_files.tar.gz\")\n",
    "\n",
    "# Download\n",
    "download_file(URL_MODEL, model_file)\n",
    "\n",
    "# Extract selectively\n",
    "with tarfile.open(model_file, \"r:gz\") as tar_ref:\n",
    "    for member in tar_ref.getmembers():\n",
    "        if member.name.startswith(\"weights\"):\n",
    "            tar_ref.extract(member, \".\")\n",
    "            print(f\"Extracted {member.name} → {WEIGHTS_DIR}\")\n",
    "        elif member.name.startswith(\"prior_data\"):\n",
    "            tar_ref.extract(member, \".\")\n",
    "            print(f\"Extracted {member.name} → {PRIOR_DIR}\")\n",
    "\n",
    "print(\"🎉 All files downloaded and extracted successfully!\")\n"
   ]
  },
  {
   "cell_type": "code",
   "execution_count": null,
   "id": "5b6f665d-3e79-4965-8e48-06f21f91faec",
   "metadata": {},
   "outputs": [],
   "source": []
  },
  {
   "cell_type": "code",
   "execution_count": null,
   "id": "5587ab9c-5925-4292-8639-ecc5fcb4321f",
   "metadata": {},
   "outputs": [],
   "source": []
  },
  {
   "cell_type": "code",
   "execution_count": null,
   "id": "204ec7a8-ca07-4641-b51c-bc93b5b9fd41",
   "metadata": {},
   "outputs": [],
   "source": []
  }
 ],
 "metadata": {
  "kernelspec": {
   "display_name": "Python 3",
   "language": "python",
   "name": "python3"
  },
  "language_info": {
   "codemirror_mode": {
    "name": "ipython",
    "version": 3
   },
   "file_extension": ".py",
   "mimetype": "text/x-python",
   "name": "python",
   "nbconvert_exporter": "python",
   "pygments_lexer": "ipython3",
   "version": "3.8.15"
  }
 },
 "nbformat": 4,
 "nbformat_minor": 5
}
